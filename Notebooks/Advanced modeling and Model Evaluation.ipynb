{
 "cells": [
  {
   "cell_type": "code",
   "execution_count": 36,
   "id": "af852203",
   "metadata": {},
   "outputs": [],
   "source": [
    "#Libraries for handaling dataframes\n",
    "import numpy as np\n",
    "import pandas as pd\n",
    "\n",
    "#Libraries for parameter optimization\n",
    "from sklearn.model_selection import train_test_split, GridSearchCV\n",
    "from sklearn.pipeline import Pipeline\n",
    "\n",
    "#Importing necessary libraries to prevent crashes with temporary files \n",
    "from tempfile import mkdtemp\n",
    "\n",
    "#Libraries for modeling\n",
    "from sklearn.preprocessing import StandardScaler, RobustScaler\n",
    "from sklearn.linear_model import LogisticRegression\n",
    "from sklearn.tree import DecisionTreeClassifier\n",
    "from sklearn.neighbors import KNeighborsClassifier\n",
    "\n",
    "#Libraries for scoring models\n",
    "from sklearn.metrics import make_scorer, recall_score, classification_report\n",
    "from sklearn.metrics import confusion_matrix, ConfusionMatrixDisplay\n",
    "\n",
    "# Ignore futurewarnings\n",
    "import warnings\n",
    "warnings.filterwarnings('ignore')\n",
    "from sklearn.exceptions import ConvergenceWarning"
   ]
  },
  {
   "cell_type": "markdown",
   "id": "a7d38123",
   "metadata": {},
   "source": [
    "# Advanced modeling\n",
    "\n",
    "In this notebook, leveraging the insights from previous analyses, we will search for the optimal intrusion detection model using sklearn Pipeline and GridSearchCV. Our focus will be on achieving the highest recall score possible. Please note that the runtime for this notebook is expected to be lengthy due to the extensive model exploration and hyperparameter tuning."
   ]
  },
  {
   "cell_type": "code",
   "execution_count": 4,
   "id": "630c8d9c",
   "metadata": {},
   "outputs": [],
   "source": [
    "#Import train dataset\n",
    "train_df = pd.read_csv('processed/Train.csv')\n",
    "\n",
    "#Separate target variable\n",
    "X = train_df.drop(columns='Class')\n",
    "y = train_df['Class']\n",
    "\n",
    "#Create a validation set for model evaluation\n",
    "X_train, X_val, y_train, y_val = train_test_split(X, y, test_size=0.4, random_state=0)"
   ]
  },
  {
   "cell_type": "markdown",
   "id": "d46505fc",
   "metadata": {},
   "source": [
    "I chose Logistic Regression, Decision Tree Classifier, and K-Nearest Neighbors Classifier as our models for Intrusion Detection System (IDS) for several reasons:\n",
    "\n",
    "1. Logistic Regression: It is a straightforward and interpretable classification algorithm. Its linear nature makes it computationally efficient, which is advantageous when working with large datasets like ours. Moreover, it can handle both binary and multiclass classification tasks, making it suitable for detecting malicious and benign connections.\n",
    "\n",
    "2. Decision Tree Classifier: Decision trees are powerful and easy-to-interpret models that can handle both numerical and categorical data. They are well-suited for capturing non-linear relationships in the data, making them effective in distinguishing between different types of connections in our IDS.\n",
    "\n",
    "3. K-Nearest Neighbors Classifier: This model is a simple and effective non-parametric algorithm that classifies data points based on their proximity to other data points in the feature space. It works well for both binary and multiclass classification and can be effective when there are distinct clusters of data representing different types of connections.\n",
    "\n",
    "Additionally, I considered using Support Vector Machines (SVM) for IDS modeling, but I omitted them due to the limitations of my machine. SVMs can be computationally intensive, especially when dealing with large datasets. Given the dataset size and my machine's constraints, I decided to focus on the aforementioned models, which are still capable of delivering valuable results while being computationally manageable."
   ]
  },
  {
   "cell_type": "code",
   "execution_count": 38,
   "id": "16f6baea",
   "metadata": {},
   "outputs": [],
   "source": [
    "#Creating the pipeline and param_grid to search for the best ML model\n",
    "estimators = [('scaler', StandardScaler()),\n",
    "              ('model', LogisticRegression())]\n",
    "\n",
    "# Creating a temporary cache directory for the pipeline to store intermediate results.\n",
    "cachedir = mkdtemp(dir='temp/')\n",
    "\n",
    "# Creating the pipeline object with the specified estimators and memory caching.\n",
    "pipe = Pipeline(estimators, memory=cachedir)\n",
    "\n",
    "# Defining the parameter grid to search for the best model using GridSearchCV.\n",
    "param_grid = [{'model':[LogisticRegression()],\n",
    "               'scaler':[StandardScaler(),RobustScaler()],\n",
    "               'model__max_iter':[1000],\n",
    "               'model__penalty':['l2'],\n",
    "               'model__C':[0.1,1,10,100],\n",
    "               'model__solver':['lbfgs']},\n",
    "             {'model':[DecisionTreeClassifier()],\n",
    "              'scaler':[StandardScaler(),None],\n",
    "              'model__max_depth':[3,5,7,9]},\n",
    "             {'model':[KNeighborsClassifier()],\n",
    "              'scaler':[StandardScaler(),RobustScaler()],\n",
    "              'model__n_neighbors':[2,5,10]}]\n",
    "\n",
    "# Using 'recall_score' as the evaluation metric for the model selection during cross-validation.\n",
    "scorer = make_scorer(recall_score)"
   ]
  },
  {
   "cell_type": "code",
   "execution_count": 42,
   "id": "a50c3257",
   "metadata": {},
   "outputs": [],
   "source": [
    "# Initializing the GridSearchCV object for hyperparameter tuning\n",
    "grid_search = GridSearchCV(pipe, param_grid,scoring = scorer, cv=3,n_jobs=-1,verbose=1)"
   ]
  },
  {
   "cell_type": "code",
   "execution_count": 43,
   "id": "09f9e3c9",
   "metadata": {},
   "outputs": [
    {
     "name": "stdout",
     "output_type": "stream",
     "text": [
      "Fitting 3 folds for each of 22 candidates, totalling 66 fits\n"
     ]
    },
    {
     "name": "stderr",
     "output_type": "stream",
     "text": [
      "/home/mdsv9/anaconda3/lib/python3.10/site-packages/sklearn/linear_model/_logistic.py:458: ConvergenceWarning: lbfgs failed to converge (status=1):\n",
      "STOP: TOTAL NO. of ITERATIONS REACHED LIMIT.\n",
      "\n",
      "Increase the number of iterations (max_iter) or scale the data as shown in:\n",
      "    https://scikit-learn.org/stable/modules/preprocessing.html\n",
      "Please also refer to the documentation for alternative solver options:\n",
      "    https://scikit-learn.org/stable/modules/linear_model.html#logistic-regression\n",
      "  n_iter_i = _check_optimize_result(\n",
      "/home/mdsv9/anaconda3/lib/python3.10/site-packages/sklearn/linear_model/_logistic.py:458: ConvergenceWarning: lbfgs failed to converge (status=1):\n",
      "STOP: TOTAL NO. of ITERATIONS REACHED LIMIT.\n",
      "\n",
      "Increase the number of iterations (max_iter) or scale the data as shown in:\n",
      "    https://scikit-learn.org/stable/modules/preprocessing.html\n",
      "Please also refer to the documentation for alternative solver options:\n",
      "    https://scikit-learn.org/stable/modules/linear_model.html#logistic-regression\n",
      "  n_iter_i = _check_optimize_result(\n",
      "/home/mdsv9/anaconda3/lib/python3.10/site-packages/sklearn/linear_model/_logistic.py:458: ConvergenceWarning: lbfgs failed to converge (status=1):\n",
      "STOP: TOTAL NO. of ITERATIONS REACHED LIMIT.\n",
      "\n",
      "Increase the number of iterations (max_iter) or scale the data as shown in:\n",
      "    https://scikit-learn.org/stable/modules/preprocessing.html\n",
      "Please also refer to the documentation for alternative solver options:\n",
      "    https://scikit-learn.org/stable/modules/linear_model.html#logistic-regression\n",
      "  n_iter_i = _check_optimize_result(\n",
      "/home/mdsv9/anaconda3/lib/python3.10/site-packages/sklearn/linear_model/_logistic.py:458: ConvergenceWarning: lbfgs failed to converge (status=1):\n",
      "STOP: TOTAL NO. of ITERATIONS REACHED LIMIT.\n",
      "\n",
      "Increase the number of iterations (max_iter) or scale the data as shown in:\n",
      "    https://scikit-learn.org/stable/modules/preprocessing.html\n",
      "Please also refer to the documentation for alternative solver options:\n",
      "    https://scikit-learn.org/stable/modules/linear_model.html#logistic-regression\n",
      "  n_iter_i = _check_optimize_result(\n",
      "/home/mdsv9/anaconda3/lib/python3.10/site-packages/sklearn/linear_model/_logistic.py:458: ConvergenceWarning: lbfgs failed to converge (status=1):\n",
      "STOP: TOTAL NO. of ITERATIONS REACHED LIMIT.\n",
      "\n",
      "Increase the number of iterations (max_iter) or scale the data as shown in:\n",
      "    https://scikit-learn.org/stable/modules/preprocessing.html\n",
      "Please also refer to the documentation for alternative solver options:\n",
      "    https://scikit-learn.org/stable/modules/linear_model.html#logistic-regression\n",
      "  n_iter_i = _check_optimize_result(\n",
      "/home/mdsv9/anaconda3/lib/python3.10/site-packages/sklearn/linear_model/_logistic.py:458: ConvergenceWarning: lbfgs failed to converge (status=1):\n",
      "STOP: TOTAL NO. of ITERATIONS REACHED LIMIT.\n",
      "\n",
      "Increase the number of iterations (max_iter) or scale the data as shown in:\n",
      "    https://scikit-learn.org/stable/modules/preprocessing.html\n",
      "Please also refer to the documentation for alternative solver options:\n",
      "    https://scikit-learn.org/stable/modules/linear_model.html#logistic-regression\n",
      "  n_iter_i = _check_optimize_result(\n",
      "/home/mdsv9/anaconda3/lib/python3.10/site-packages/sklearn/linear_model/_logistic.py:458: ConvergenceWarning: lbfgs failed to converge (status=1):\n",
      "STOP: TOTAL NO. of ITERATIONS REACHED LIMIT.\n",
      "\n",
      "Increase the number of iterations (max_iter) or scale the data as shown in:\n",
      "    https://scikit-learn.org/stable/modules/preprocessing.html\n",
      "Please also refer to the documentation for alternative solver options:\n",
      "    https://scikit-learn.org/stable/modules/linear_model.html#logistic-regression\n",
      "  n_iter_i = _check_optimize_result(\n",
      "/home/mdsv9/anaconda3/lib/python3.10/site-packages/sklearn/linear_model/_logistic.py:458: ConvergenceWarning: lbfgs failed to converge (status=1):\n",
      "STOP: TOTAL NO. of ITERATIONS REACHED LIMIT.\n",
      "\n",
      "Increase the number of iterations (max_iter) or scale the data as shown in:\n",
      "    https://scikit-learn.org/stable/modules/preprocessing.html\n",
      "Please also refer to the documentation for alternative solver options:\n",
      "    https://scikit-learn.org/stable/modules/linear_model.html#logistic-regression\n",
      "  n_iter_i = _check_optimize_result(\n",
      "/home/mdsv9/anaconda3/lib/python3.10/site-packages/sklearn/linear_model/_logistic.py:458: ConvergenceWarning: lbfgs failed to converge (status=1):\n",
      "STOP: TOTAL NO. of ITERATIONS REACHED LIMIT.\n",
      "\n",
      "Increase the number of iterations (max_iter) or scale the data as shown in:\n",
      "    https://scikit-learn.org/stable/modules/preprocessing.html\n",
      "Please also refer to the documentation for alternative solver options:\n",
      "    https://scikit-learn.org/stable/modules/linear_model.html#logistic-regression\n",
      "  n_iter_i = _check_optimize_result(\n",
      "/home/mdsv9/anaconda3/lib/python3.10/site-packages/sklearn/linear_model/_logistic.py:458: ConvergenceWarning: lbfgs failed to converge (status=1):\n",
      "STOP: TOTAL NO. of ITERATIONS REACHED LIMIT.\n",
      "\n",
      "Increase the number of iterations (max_iter) or scale the data as shown in:\n",
      "    https://scikit-learn.org/stable/modules/preprocessing.html\n",
      "Please also refer to the documentation for alternative solver options:\n",
      "    https://scikit-learn.org/stable/modules/linear_model.html#logistic-regression\n",
      "  n_iter_i = _check_optimize_result(\n",
      "/home/mdsv9/anaconda3/lib/python3.10/site-packages/sklearn/linear_model/_logistic.py:458: ConvergenceWarning: lbfgs failed to converge (status=1):\n",
      "STOP: TOTAL NO. of ITERATIONS REACHED LIMIT.\n",
      "\n",
      "Increase the number of iterations (max_iter) or scale the data as shown in:\n",
      "    https://scikit-learn.org/stable/modules/preprocessing.html\n",
      "Please also refer to the documentation for alternative solver options:\n",
      "    https://scikit-learn.org/stable/modules/linear_model.html#logistic-regression\n",
      "  n_iter_i = _check_optimize_result(\n",
      "/home/mdsv9/anaconda3/lib/python3.10/site-packages/sklearn/linear_model/_logistic.py:458: ConvergenceWarning: lbfgs failed to converge (status=1):\n",
      "STOP: TOTAL NO. of ITERATIONS REACHED LIMIT.\n",
      "\n",
      "Increase the number of iterations (max_iter) or scale the data as shown in:\n",
      "    https://scikit-learn.org/stable/modules/preprocessing.html\n",
      "Please also refer to the documentation for alternative solver options:\n",
      "    https://scikit-learn.org/stable/modules/linear_model.html#logistic-regression\n",
      "  n_iter_i = _check_optimize_result(\n",
      "/home/mdsv9/anaconda3/lib/python3.10/site-packages/sklearn/linear_model/_logistic.py:458: ConvergenceWarning: lbfgs failed to converge (status=1):\n",
      "STOP: TOTAL NO. of ITERATIONS REACHED LIMIT.\n",
      "\n",
      "Increase the number of iterations (max_iter) or scale the data as shown in:\n",
      "    https://scikit-learn.org/stable/modules/preprocessing.html\n",
      "Please also refer to the documentation for alternative solver options:\n",
      "    https://scikit-learn.org/stable/modules/linear_model.html#logistic-regression\n",
      "  n_iter_i = _check_optimize_result(\n",
      "/home/mdsv9/anaconda3/lib/python3.10/site-packages/sklearn/linear_model/_logistic.py:458: ConvergenceWarning: lbfgs failed to converge (status=1):\n",
      "STOP: TOTAL NO. of ITERATIONS REACHED LIMIT.\n",
      "\n",
      "Increase the number of iterations (max_iter) or scale the data as shown in:\n",
      "    https://scikit-learn.org/stable/modules/preprocessing.html\n",
      "Please also refer to the documentation for alternative solver options:\n",
      "    https://scikit-learn.org/stable/modules/linear_model.html#logistic-regression\n",
      "  n_iter_i = _check_optimize_result(\n",
      "/home/mdsv9/anaconda3/lib/python3.10/site-packages/sklearn/linear_model/_logistic.py:458: ConvergenceWarning: lbfgs failed to converge (status=1):\n",
      "STOP: TOTAL NO. of ITERATIONS REACHED LIMIT.\n",
      "\n",
      "Increase the number of iterations (max_iter) or scale the data as shown in:\n",
      "    https://scikit-learn.org/stable/modules/preprocessing.html\n",
      "Please also refer to the documentation for alternative solver options:\n",
      "    https://scikit-learn.org/stable/modules/linear_model.html#logistic-regression\n",
      "  n_iter_i = _check_optimize_result(\n",
      "/home/mdsv9/anaconda3/lib/python3.10/site-packages/sklearn/linear_model/_logistic.py:458: ConvergenceWarning: lbfgs failed to converge (status=1):\n",
      "STOP: TOTAL NO. of ITERATIONS REACHED LIMIT.\n",
      "\n",
      "Increase the number of iterations (max_iter) or scale the data as shown in:\n",
      "    https://scikit-learn.org/stable/modules/preprocessing.html\n",
      "Please also refer to the documentation for alternative solver options:\n",
      "    https://scikit-learn.org/stable/modules/linear_model.html#logistic-regression\n",
      "  n_iter_i = _check_optimize_result(\n"
     ]
    },
    {
     "name": "stderr",
     "output_type": "stream",
     "text": [
      "/home/mdsv9/anaconda3/lib/python3.10/site-packages/sklearn/linear_model/_logistic.py:458: ConvergenceWarning: lbfgs failed to converge (status=1):\n",
      "STOP: TOTAL NO. of ITERATIONS REACHED LIMIT.\n",
      "\n",
      "Increase the number of iterations (max_iter) or scale the data as shown in:\n",
      "    https://scikit-learn.org/stable/modules/preprocessing.html\n",
      "Please also refer to the documentation for alternative solver options:\n",
      "    https://scikit-learn.org/stable/modules/linear_model.html#logistic-regression\n",
      "  n_iter_i = _check_optimize_result(\n",
      "/home/mdsv9/anaconda3/lib/python3.10/site-packages/sklearn/linear_model/_logistic.py:458: ConvergenceWarning: lbfgs failed to converge (status=1):\n",
      "STOP: TOTAL NO. of ITERATIONS REACHED LIMIT.\n",
      "\n",
      "Increase the number of iterations (max_iter) or scale the data as shown in:\n",
      "    https://scikit-learn.org/stable/modules/preprocessing.html\n",
      "Please also refer to the documentation for alternative solver options:\n",
      "    https://scikit-learn.org/stable/modules/linear_model.html#logistic-regression\n",
      "  n_iter_i = _check_optimize_result(\n"
     ]
    }
   ],
   "source": [
    "# Ignoring warnings for the duration of grid_search.fit() execution\n",
    "with warnings.catch_warnings():\n",
    "    warnings.simplefilter(\"ignore\",category=ConvergenceWarning)\n",
    "    warnings.filterwarnings(\"ignore\", category=UserWarning)\n",
    "\n",
    "    # Fitting the GridSearchCV object to find the best model and hyperparameters.\n",
    "    grid_search.fit(X_train, y_train)"
   ]
  },
  {
   "cell_type": "code",
   "execution_count": 44,
   "id": "bddbc468",
   "metadata": {},
   "outputs": [
    {
     "data": {
      "text/plain": [
       "{'model': KNeighborsClassifier(),\n",
       " 'model__n_neighbors': 5,\n",
       " 'scaler': StandardScaler()}"
      ]
     },
     "execution_count": 44,
     "metadata": {},
     "output_type": "execute_result"
    }
   ],
   "source": [
    "grid_search.best_params_"
   ]
  },
  {
   "cell_type": "markdown",
   "id": "79533c06",
   "metadata": {},
   "source": [
    "After approximately 30 minutes, our GridSearch returned the best hyperparameters for the KNeighboursClassifier, with n_neighbors = 5 and a StandardScaler, which provided the highest recall score compared to all other searches. With this valuable information, we can now proceed to evaluate the performance of this hyperoptimized model."
   ]
  },
  {
   "cell_type": "code",
   "execution_count": 47,
   "id": "bfeab926",
   "metadata": {
    "collapsed": true
   },
   "outputs": [
    {
     "data": {
      "text/html": [
       "<style>#sk-container-id-7 {color: black;background-color: white;}#sk-container-id-7 pre{padding: 0;}#sk-container-id-7 div.sk-toggleable {background-color: white;}#sk-container-id-7 label.sk-toggleable__label {cursor: pointer;display: block;width: 100%;margin-bottom: 0;padding: 0.3em;box-sizing: border-box;text-align: center;}#sk-container-id-7 label.sk-toggleable__label-arrow:before {content: \"▸\";float: left;margin-right: 0.25em;color: #696969;}#sk-container-id-7 label.sk-toggleable__label-arrow:hover:before {color: black;}#sk-container-id-7 div.sk-estimator:hover label.sk-toggleable__label-arrow:before {color: black;}#sk-container-id-7 div.sk-toggleable__content {max-height: 0;max-width: 0;overflow: hidden;text-align: left;background-color: #f0f8ff;}#sk-container-id-7 div.sk-toggleable__content pre {margin: 0.2em;color: black;border-radius: 0.25em;background-color: #f0f8ff;}#sk-container-id-7 input.sk-toggleable__control:checked~div.sk-toggleable__content {max-height: 200px;max-width: 100%;overflow: auto;}#sk-container-id-7 input.sk-toggleable__control:checked~label.sk-toggleable__label-arrow:before {content: \"▾\";}#sk-container-id-7 div.sk-estimator input.sk-toggleable__control:checked~label.sk-toggleable__label {background-color: #d4ebff;}#sk-container-id-7 div.sk-label input.sk-toggleable__control:checked~label.sk-toggleable__label {background-color: #d4ebff;}#sk-container-id-7 input.sk-hidden--visually {border: 0;clip: rect(1px 1px 1px 1px);clip: rect(1px, 1px, 1px, 1px);height: 1px;margin: -1px;overflow: hidden;padding: 0;position: absolute;width: 1px;}#sk-container-id-7 div.sk-estimator {font-family: monospace;background-color: #f0f8ff;border: 1px dotted black;border-radius: 0.25em;box-sizing: border-box;margin-bottom: 0.5em;}#sk-container-id-7 div.sk-estimator:hover {background-color: #d4ebff;}#sk-container-id-7 div.sk-parallel-item::after {content: \"\";width: 100%;border-bottom: 1px solid gray;flex-grow: 1;}#sk-container-id-7 div.sk-label:hover label.sk-toggleable__label {background-color: #d4ebff;}#sk-container-id-7 div.sk-serial::before {content: \"\";position: absolute;border-left: 1px solid gray;box-sizing: border-box;top: 0;bottom: 0;left: 50%;z-index: 0;}#sk-container-id-7 div.sk-serial {display: flex;flex-direction: column;align-items: center;background-color: white;padding-right: 0.2em;padding-left: 0.2em;position: relative;}#sk-container-id-7 div.sk-item {position: relative;z-index: 1;}#sk-container-id-7 div.sk-parallel {display: flex;align-items: stretch;justify-content: center;background-color: white;position: relative;}#sk-container-id-7 div.sk-item::before, #sk-container-id-7 div.sk-parallel-item::before {content: \"\";position: absolute;border-left: 1px solid gray;box-sizing: border-box;top: 0;bottom: 0;left: 50%;z-index: -1;}#sk-container-id-7 div.sk-parallel-item {display: flex;flex-direction: column;z-index: 1;position: relative;background-color: white;}#sk-container-id-7 div.sk-parallel-item:first-child::after {align-self: flex-end;width: 50%;}#sk-container-id-7 div.sk-parallel-item:last-child::after {align-self: flex-start;width: 50%;}#sk-container-id-7 div.sk-parallel-item:only-child::after {width: 0;}#sk-container-id-7 div.sk-dashed-wrapped {border: 1px dashed gray;margin: 0 0.4em 0.5em 0.4em;box-sizing: border-box;padding-bottom: 0.4em;background-color: white;}#sk-container-id-7 div.sk-label label {font-family: monospace;font-weight: bold;display: inline-block;line-height: 1.2em;}#sk-container-id-7 div.sk-label-container {text-align: center;}#sk-container-id-7 div.sk-container {/* jupyter's `normalize.less` sets `[hidden] { display: none; }` but bootstrap.min.css set `[hidden] { display: none !important; }` so we also need the `!important` here to be able to override the default hidden behavior on the sphinx rendered scikit-learn.org. See: https://github.com/scikit-learn/scikit-learn/issues/21755 */display: inline-block !important;position: relative;}#sk-container-id-7 div.sk-text-repr-fallback {display: none;}</style><div id=\"sk-container-id-7\" class=\"sk-top-container\"><div class=\"sk-text-repr-fallback\"><pre>Pipeline(memory=&#x27;temp/tmpi4sz8ryg&#x27;,\n",
       "         steps=[(&#x27;scaler&#x27;, StandardScaler()),\n",
       "                (&#x27;model&#x27;, KNeighborsClassifier())])</pre><b>In a Jupyter environment, please rerun this cell to show the HTML representation or trust the notebook. <br />On GitHub, the HTML representation is unable to render, please try loading this page with nbviewer.org.</b></div><div class=\"sk-container\" hidden><div class=\"sk-item sk-dashed-wrapped\"><div class=\"sk-label-container\"><div class=\"sk-label sk-toggleable\"><input class=\"sk-toggleable__control sk-hidden--visually\" id=\"sk-estimator-id-16\" type=\"checkbox\" ><label for=\"sk-estimator-id-16\" class=\"sk-toggleable__label sk-toggleable__label-arrow\">Pipeline</label><div class=\"sk-toggleable__content\"><pre>Pipeline(memory=&#x27;temp/tmpi4sz8ryg&#x27;,\n",
       "         steps=[(&#x27;scaler&#x27;, StandardScaler()),\n",
       "                (&#x27;model&#x27;, KNeighborsClassifier())])</pre></div></div></div><div class=\"sk-serial\"><div class=\"sk-item\"><div class=\"sk-estimator sk-toggleable\"><input class=\"sk-toggleable__control sk-hidden--visually\" id=\"sk-estimator-id-17\" type=\"checkbox\" ><label for=\"sk-estimator-id-17\" class=\"sk-toggleable__label sk-toggleable__label-arrow\">StandardScaler</label><div class=\"sk-toggleable__content\"><pre>StandardScaler()</pre></div></div></div><div class=\"sk-item\"><div class=\"sk-estimator sk-toggleable\"><input class=\"sk-toggleable__control sk-hidden--visually\" id=\"sk-estimator-id-18\" type=\"checkbox\" ><label for=\"sk-estimator-id-18\" class=\"sk-toggleable__label sk-toggleable__label-arrow\">KNeighborsClassifier</label><div class=\"sk-toggleable__content\"><pre>KNeighborsClassifier()</pre></div></div></div></div></div></div></div>"
      ],
      "text/plain": [
       "Pipeline(memory='temp/tmpi4sz8ryg',\n",
       "         steps=[('scaler', StandardScaler()),\n",
       "                ('model', KNeighborsClassifier())])"
      ]
     },
     "execution_count": 47,
     "metadata": {},
     "output_type": "execute_result"
    },
    {
     "name": "stdout",
     "output_type": "stream",
     "text": [
      "[CV] END model=LogisticRegression(), model__C=0.1, model__max_iter=1000, model__penalty=l2, model__solver=lbfgs, scaler=RobustScaler(); total time= 2.0min\n",
      "[CV] END model=LogisticRegression(), model__C=10, model__max_iter=1000, model__penalty=l2, model__solver=lbfgs, scaler=RobustScaler(); total time= 1.9min\n",
      "[CV] END model=DecisionTreeClassifier(), model__max_depth=3, scaler=StandardScaler(); total time=   7.3s\n",
      "[CV] END model=DecisionTreeClassifier(), model__max_depth=3, scaler=StandardScaler(); total time=   7.0s\n",
      "[CV] END model=DecisionTreeClassifier(), model__max_depth=3, scaler=None; total time=   6.2s\n",
      "[CV] END model=DecisionTreeClassifier(), model__max_depth=3, scaler=None; total time=   6.6s\n",
      "[CV] END model=DecisionTreeClassifier(), model__max_depth=5, scaler=StandardScaler(); total time=  10.8s\n",
      "[CV] END model=DecisionTreeClassifier(), model__max_depth=5, scaler=None; total time=   9.7s\n",
      "[CV] END model=DecisionTreeClassifier(), model__max_depth=7, scaler=None; total time=  12.7s\n",
      "[CV] END model=DecisionTreeClassifier(), model__max_depth=9, scaler=None; total time=  15.6s\n",
      "[CV] END model=KNeighborsClassifier(), model__n_neighbors=2, scaler=RobustScaler(); total time= 8.5min\n",
      "[CV] END model=KNeighborsClassifier(), model__n_neighbors=5, scaler=StandardScaler(); total time= 8.8min\n",
      "[CV] END model=LogisticRegression(), model__C=1, model__max_iter=1000, model__penalty=l2, model__solver=lbfgs, scaler=StandardScaler(); total time=  56.8s\n",
      "[CV] END model=LogisticRegression(), model__C=1, model__max_iter=1000, model__penalty=l2, model__solver=lbfgs, scaler=RobustScaler(); total time= 2.0min\n",
      "[CV] END model=LogisticRegression(), model__C=100, model__max_iter=1000, model__penalty=l2, model__solver=lbfgs, scaler=StandardScaler(); total time= 1.7min\n",
      "[CV] END model=DecisionTreeClassifier(), model__max_depth=7, scaler=None; total time=  12.6s\n",
      "[CV] END model=DecisionTreeClassifier(), model__max_depth=9, scaler=StandardScaler(); total time=  15.5s\n",
      "[CV] END model=KNeighborsClassifier(), model__n_neighbors=2, scaler=StandardScaler(); total time= 8.7min\n",
      "[CV] END model=KNeighborsClassifier(), model__n_neighbors=5, scaler=RobustScaler(); total time= 8.6min\n",
      "[CV] END model=LogisticRegression(), model__C=1, model__max_iter=1000, model__penalty=l2, model__solver=lbfgs, scaler=StandardScaler(); total time=  58.7s\n",
      "[CV] END model=LogisticRegression(), model__C=10, model__max_iter=1000, model__penalty=l2, model__solver=lbfgs, scaler=StandardScaler(); total time= 1.7min\n",
      "[CV] END model=LogisticRegression(), model__C=100, model__max_iter=1000, model__penalty=l2, model__solver=lbfgs, scaler=StandardScaler(); total time= 1.8min\n",
      "[CV] END model=DecisionTreeClassifier(), model__max_depth=5, scaler=None; total time=  10.2s\n",
      "[CV] END model=DecisionTreeClassifier(), model__max_depth=7, scaler=StandardScaler(); total time=  13.4s\n",
      "[CV] END model=DecisionTreeClassifier(), model__max_depth=9, scaler=StandardScaler(); total time=  15.6s\n",
      "[CV] END model=KNeighborsClassifier(), model__n_neighbors=2, scaler=StandardScaler(); total time= 8.6min\n",
      "[CV] END model=KNeighborsClassifier(), model__n_neighbors=5, scaler=RobustScaler(); total time= 8.7min\n",
      "[CV] END model=LogisticRegression(), model__C=0.1, model__max_iter=1000, model__penalty=l2, model__solver=lbfgs, scaler=RobustScaler(); total time= 1.9min\n",
      "[CV] END model=LogisticRegression(), model__C=10, model__max_iter=1000, model__penalty=l2, model__solver=lbfgs, scaler=StandardScaler(); total time= 1.7min\n",
      "[CV] END model=LogisticRegression(), model__C=100, model__max_iter=1000, model__penalty=l2, model__solver=lbfgs, scaler=RobustScaler(); total time= 2.0min\n",
      "[CV] END model=KNeighborsClassifier(), model__n_neighbors=5, scaler=StandardScaler(); total time= 8.4min\n",
      "[CV] END model=KNeighborsClassifier(), model__n_neighbors=10, scaler=StandardScaler(); total time= 8.6min\n",
      "[CV] END model=LogisticRegression(), model__C=0.1, model__max_iter=1000, model__penalty=l2, model__solver=lbfgs, scaler=StandardScaler(); total time=  26.0s\n",
      "[CV] END model=LogisticRegression(), model__C=1, model__max_iter=1000, model__penalty=l2, model__solver=lbfgs, scaler=RobustScaler(); total time= 2.0min\n",
      "[CV] END model=LogisticRegression(), model__C=100, model__max_iter=1000, model__penalty=l2, model__solver=lbfgs, scaler=StandardScaler(); total time= 1.7min\n",
      "[CV] END model=DecisionTreeClassifier(), model__max_depth=3, scaler=StandardScaler(); total time=   7.2s\n",
      "[CV] END model=DecisionTreeClassifier(), model__max_depth=3, scaler=None; total time=   6.5s\n",
      "[CV] END model=DecisionTreeClassifier(), model__max_depth=5, scaler=StandardScaler(); total time=  10.4s\n",
      "[CV] END model=DecisionTreeClassifier(), model__max_depth=7, scaler=StandardScaler(); total time=  13.7s\n",
      "[CV] END model=DecisionTreeClassifier(), model__max_depth=7, scaler=None; total time=  12.7s\n",
      "[CV] END model=DecisionTreeClassifier(), model__max_depth=9, scaler=None; total time=  16.1s\n",
      "[CV] END model=KNeighborsClassifier(), model__n_neighbors=2, scaler=RobustScaler(); total time= 8.9min\n",
      "[CV] END model=KNeighborsClassifier(), model__n_neighbors=10, scaler=StandardScaler(); total time= 8.7min\n",
      "[CV] END model=LogisticRegression(), model__C=0.1, model__max_iter=1000, model__penalty=l2, model__solver=lbfgs, scaler=RobustScaler(); total time= 1.9min\n",
      "[CV] END model=LogisticRegression(), model__C=10, model__max_iter=1000, model__penalty=l2, model__solver=lbfgs, scaler=RobustScaler(); total time= 1.9min\n",
      "[CV] END model=LogisticRegression(), model__C=100, model__max_iter=1000, model__penalty=l2, model__solver=lbfgs, scaler=RobustScaler(); total time= 2.1min\n",
      "[CV] END model=KNeighborsClassifier(), model__n_neighbors=5, scaler=StandardScaler(); total time= 8.6min\n",
      "[CV] END model=KNeighborsClassifier(), model__n_neighbors=10, scaler=RobustScaler(); total time= 8.4min\n",
      "[CV] END model=LogisticRegression(), model__C=0.1, model__max_iter=1000, model__penalty=l2, model__solver=lbfgs, scaler=StandardScaler(); total time=  26.4s\n",
      "[CV] END model=LogisticRegression(), model__C=1, model__max_iter=1000, model__penalty=l2, model__solver=lbfgs, scaler=RobustScaler(); total time= 1.9min\n",
      "[CV] END model=LogisticRegression(), model__C=10, model__max_iter=1000, model__penalty=l2, model__solver=lbfgs, scaler=RobustScaler(); total time= 1.9min\n",
      "[CV] END model=DecisionTreeClassifier(), model__max_depth=5, scaler=StandardScaler(); total time=  11.0s\n",
      "[CV] END model=DecisionTreeClassifier(), model__max_depth=5, scaler=None; total time=   9.9s\n",
      "[CV] END model=DecisionTreeClassifier(), model__max_depth=7, scaler=StandardScaler(); total time=  13.2s\n",
      "[CV] END model=DecisionTreeClassifier(), model__max_depth=9, scaler=StandardScaler(); total time=  15.5s\n",
      "[CV] END model=KNeighborsClassifier(), model__n_neighbors=2, scaler=StandardScaler(); total time= 8.6min\n",
      "[CV] END model=KNeighborsClassifier(), model__n_neighbors=5, scaler=RobustScaler(); total time= 8.5min\n",
      "[CV] END model=KNeighborsClassifier(), model__n_neighbors=10, scaler=RobustScaler(); total time= 3.8min\n",
      "[CV] END model=LogisticRegression(), model__C=0.1, model__max_iter=1000, model__penalty=l2, model__solver=lbfgs, scaler=StandardScaler(); total time=  25.9s\n",
      "[CV] END model=LogisticRegression(), model__C=1, model__max_iter=1000, model__penalty=l2, model__solver=lbfgs, scaler=StandardScaler(); total time=  55.8s\n",
      "[CV] END model=LogisticRegression(), model__C=10, model__max_iter=1000, model__penalty=l2, model__solver=lbfgs, scaler=StandardScaler(); total time= 1.7min\n",
      "[CV] END model=LogisticRegression(), model__C=100, model__max_iter=1000, model__penalty=l2, model__solver=lbfgs, scaler=RobustScaler(); total time= 1.9min\n",
      "[CV] END model=DecisionTreeClassifier(), model__max_depth=9, scaler=None; total time=  16.1s\n",
      "[CV] END model=KNeighborsClassifier(), model__n_neighbors=2, scaler=RobustScaler(); total time= 8.7min\n",
      "[CV] END model=KNeighborsClassifier(), model__n_neighbors=10, scaler=StandardScaler(); total time= 8.5min\n",
      "[CV] END model=KNeighborsClassifier(), model__n_neighbors=10, scaler=RobustScaler(); total time= 3.8min\n"
     ]
    }
   ],
   "source": [
    "grid_search.best_estimator_"
   ]
  },
  {
   "cell_type": "code",
   "execution_count": 25,
   "id": "fe86e283",
   "metadata": {},
   "outputs": [
    {
     "data": {
      "text/html": [
       "<style>#sk-container-id-6 {color: black;background-color: white;}#sk-container-id-6 pre{padding: 0;}#sk-container-id-6 div.sk-toggleable {background-color: white;}#sk-container-id-6 label.sk-toggleable__label {cursor: pointer;display: block;width: 100%;margin-bottom: 0;padding: 0.3em;box-sizing: border-box;text-align: center;}#sk-container-id-6 label.sk-toggleable__label-arrow:before {content: \"▸\";float: left;margin-right: 0.25em;color: #696969;}#sk-container-id-6 label.sk-toggleable__label-arrow:hover:before {color: black;}#sk-container-id-6 div.sk-estimator:hover label.sk-toggleable__label-arrow:before {color: black;}#sk-container-id-6 div.sk-toggleable__content {max-height: 0;max-width: 0;overflow: hidden;text-align: left;background-color: #f0f8ff;}#sk-container-id-6 div.sk-toggleable__content pre {margin: 0.2em;color: black;border-radius: 0.25em;background-color: #f0f8ff;}#sk-container-id-6 input.sk-toggleable__control:checked~div.sk-toggleable__content {max-height: 200px;max-width: 100%;overflow: auto;}#sk-container-id-6 input.sk-toggleable__control:checked~label.sk-toggleable__label-arrow:before {content: \"▾\";}#sk-container-id-6 div.sk-estimator input.sk-toggleable__control:checked~label.sk-toggleable__label {background-color: #d4ebff;}#sk-container-id-6 div.sk-label input.sk-toggleable__control:checked~label.sk-toggleable__label {background-color: #d4ebff;}#sk-container-id-6 input.sk-hidden--visually {border: 0;clip: rect(1px 1px 1px 1px);clip: rect(1px, 1px, 1px, 1px);height: 1px;margin: -1px;overflow: hidden;padding: 0;position: absolute;width: 1px;}#sk-container-id-6 div.sk-estimator {font-family: monospace;background-color: #f0f8ff;border: 1px dotted black;border-radius: 0.25em;box-sizing: border-box;margin-bottom: 0.5em;}#sk-container-id-6 div.sk-estimator:hover {background-color: #d4ebff;}#sk-container-id-6 div.sk-parallel-item::after {content: \"\";width: 100%;border-bottom: 1px solid gray;flex-grow: 1;}#sk-container-id-6 div.sk-label:hover label.sk-toggleable__label {background-color: #d4ebff;}#sk-container-id-6 div.sk-serial::before {content: \"\";position: absolute;border-left: 1px solid gray;box-sizing: border-box;top: 0;bottom: 0;left: 50%;z-index: 0;}#sk-container-id-6 div.sk-serial {display: flex;flex-direction: column;align-items: center;background-color: white;padding-right: 0.2em;padding-left: 0.2em;position: relative;}#sk-container-id-6 div.sk-item {position: relative;z-index: 1;}#sk-container-id-6 div.sk-parallel {display: flex;align-items: stretch;justify-content: center;background-color: white;position: relative;}#sk-container-id-6 div.sk-item::before, #sk-container-id-6 div.sk-parallel-item::before {content: \"\";position: absolute;border-left: 1px solid gray;box-sizing: border-box;top: 0;bottom: 0;left: 50%;z-index: -1;}#sk-container-id-6 div.sk-parallel-item {display: flex;flex-direction: column;z-index: 1;position: relative;background-color: white;}#sk-container-id-6 div.sk-parallel-item:first-child::after {align-self: flex-end;width: 50%;}#sk-container-id-6 div.sk-parallel-item:last-child::after {align-self: flex-start;width: 50%;}#sk-container-id-6 div.sk-parallel-item:only-child::after {width: 0;}#sk-container-id-6 div.sk-dashed-wrapped {border: 1px dashed gray;margin: 0 0.4em 0.5em 0.4em;box-sizing: border-box;padding-bottom: 0.4em;background-color: white;}#sk-container-id-6 div.sk-label label {font-family: monospace;font-weight: bold;display: inline-block;line-height: 1.2em;}#sk-container-id-6 div.sk-label-container {text-align: center;}#sk-container-id-6 div.sk-container {/* jupyter's `normalize.less` sets `[hidden] { display: none; }` but bootstrap.min.css set `[hidden] { display: none !important; }` so we also need the `!important` here to be able to override the default hidden behavior on the sphinx rendered scikit-learn.org. See: https://github.com/scikit-learn/scikit-learn/issues/21755 */display: inline-block !important;position: relative;}#sk-container-id-6 div.sk-text-repr-fallback {display: none;}</style><div id=\"sk-container-id-6\" class=\"sk-top-container\"><div class=\"sk-text-repr-fallback\"><pre>Pipeline(memory=&#x27;temp/tmpd_4ov19g&#x27;,\n",
       "         steps=[(&#x27;scaler&#x27;, StandardScaler()),\n",
       "                (&#x27;model&#x27;, KNeighborsClassifier())])</pre><b>In a Jupyter environment, please rerun this cell to show the HTML representation or trust the notebook. <br />On GitHub, the HTML representation is unable to render, please try loading this page with nbviewer.org.</b></div><div class=\"sk-container\" hidden><div class=\"sk-item sk-dashed-wrapped\"><div class=\"sk-label-container\"><div class=\"sk-label sk-toggleable\"><input class=\"sk-toggleable__control sk-hidden--visually\" id=\"sk-estimator-id-13\" type=\"checkbox\" ><label for=\"sk-estimator-id-13\" class=\"sk-toggleable__label sk-toggleable__label-arrow\">Pipeline</label><div class=\"sk-toggleable__content\"><pre>Pipeline(memory=&#x27;temp/tmpd_4ov19g&#x27;,\n",
       "         steps=[(&#x27;scaler&#x27;, StandardScaler()),\n",
       "                (&#x27;model&#x27;, KNeighborsClassifier())])</pre></div></div></div><div class=\"sk-serial\"><div class=\"sk-item\"><div class=\"sk-estimator sk-toggleable\"><input class=\"sk-toggleable__control sk-hidden--visually\" id=\"sk-estimator-id-14\" type=\"checkbox\" ><label for=\"sk-estimator-id-14\" class=\"sk-toggleable__label sk-toggleable__label-arrow\">StandardScaler</label><div class=\"sk-toggleable__content\"><pre>StandardScaler()</pre></div></div></div><div class=\"sk-item\"><div class=\"sk-estimator sk-toggleable\"><input class=\"sk-toggleable__control sk-hidden--visually\" id=\"sk-estimator-id-15\" type=\"checkbox\" ><label for=\"sk-estimator-id-15\" class=\"sk-toggleable__label sk-toggleable__label-arrow\">KNeighborsClassifier</label><div class=\"sk-toggleable__content\"><pre>KNeighborsClassifier()</pre></div></div></div></div></div></div></div>"
      ],
      "text/plain": [
       "Pipeline(memory='temp/tmpd_4ov19g',\n",
       "         steps=[('scaler', StandardScaler()),\n",
       "                ('model', KNeighborsClassifier())])"
      ]
     },
     "execution_count": 25,
     "metadata": {},
     "output_type": "execute_result"
    }
   ],
   "source": [
    "final_pipe = grid_search.best_estimator_\n",
    "\n",
    "final_pipe.fit(X_train,y_train)"
   ]
  },
  {
   "cell_type": "code",
   "execution_count": 48,
   "id": "faf82022",
   "metadata": {},
   "outputs": [
    {
     "name": "stdout",
     "output_type": "stream",
     "text": [
      "Training score: 0.9993\n",
      "Validation score: 0.9992\n"
     ]
    }
   ],
   "source": [
    "train_score = final_pipe.score(X_train,y_train)\n",
    "val_score = final_pipe.score(X_val,y_val)\n",
    "\n",
    "print(f'Training score: {round(train_score,4)}\\nValidation score: {round(val_score,4)}')"
   ]
  },
  {
   "cell_type": "markdown",
   "id": "77407323",
   "metadata": {},
   "source": [
    "While the accuracy score is impressive, it alone doesn't give us the complete picture for an Intrusion Detection System (IDS). In this context, high recall is essential to ensure that we detect as many malicious connections as possible, even if it means having more false positives.\n",
    "\n",
    "By utilizing the recall_score as the metric to find the best parameters from the GridSearch, we prioritized the ability of the model to correctly identify MALIGNANT connections. Now, let's assess the performance of our final pipeline on this crucial metric to determine how well it truly fares in detecting intrusions."
   ]
  },
  {
   "cell_type": "code",
   "execution_count": 49,
   "id": "394e0de6",
   "metadata": {},
   "outputs": [
    {
     "name": "stdout",
     "output_type": "stream",
     "text": [
      "              precision    recall  f1-score   support\n",
      "\n",
      "           0       1.00      1.00      1.00    130993\n",
      "           1       1.00      1.00      1.00    130503\n",
      "\n",
      "    accuracy                           1.00    261496\n",
      "   macro avg       1.00      1.00      1.00    261496\n",
      "weighted avg       1.00      1.00      1.00    261496\n",
      "\n"
     ]
    }
   ],
   "source": [
    "y_pred = final_pipe.predict(X_val)\n",
    "result = classification_report(y_val,y_pred)\n",
    "print(result)"
   ]
  },
  {
   "cell_type": "code",
   "execution_count": 32,
   "id": "c974097c",
   "metadata": {},
   "outputs": [
    {
     "data": {
      "image/png": "[encoded data removed]",
      "text/plain": [
       "<Figure size 640x480 with 2 Axes>"
      ]
     },
     "metadata": {},
     "output_type": "display_data"
    }
   ],
   "source": [
    "ConfusionMatrixDisplay.from_estimator(final_pipe, X_val, y_val);"
   ]
  },
  {
   "cell_type": "markdown",
   "id": "d0600f68",
   "metadata": {},
   "source": [
    "Out of **261,496** connections in our validation set, our model is only mislabeling **49** of them. This indicates that our model is highly accurate in correctly identifying `MALICIOUS` connections. However, to ensure its robustness in real-world scenarios, which often involve imbalanced data, we must evaluate its performance on the test set that replicates such imbalances. \n",
    "\n",
    "Let's proceed to score the recall on the test set to get a more accurate representation of our model's performance under real-world conditions."
   ]
  },
  {
   "cell_type": "code",
   "execution_count": 28,
   "id": "8204b1bd",
   "metadata": {},
   "outputs": [],
   "source": [
    "#Importing our test set and splitting its components\n",
    "test_df = pd.read_csv('processed/Test.csv')\n",
    "\n",
    "X_test = test_df.drop(columns='Class')\n",
    "y_test = test_df['Class']"
   ]
  },
  {
   "cell_type": "code",
   "execution_count": 30,
   "id": "cc09e285",
   "metadata": {},
   "outputs": [
    {
     "name": "stdout",
     "output_type": "stream",
     "text": [
      "              precision    recall  f1-score   support\n",
      "\n",
      "           0       1.00      1.00      1.00    475825\n",
      "           1       1.00      1.00      1.00    140087\n",
      "\n",
      "    accuracy                           1.00    615912\n",
      "   macro avg       1.00      1.00      1.00    615912\n",
      "weighted avg       1.00      1.00      1.00    615912\n",
      "\n"
     ]
    }
   ],
   "source": [
    "y_pred = final_pipe.predict(X_test)\n",
    "result = classification_report(y_test,y_pred)\n",
    "print(result)"
   ]
  },
  {
   "cell_type": "code",
   "execution_count": 33,
   "id": "d8750c94",
   "metadata": {},
   "outputs": [
    {
     "data": {
      "image/png": "[encoded data removed]",
      "text/plain": [
       "<Figure size 640x480 with 2 Axes>"
      ]
     },
     "metadata": {},
     "output_type": "display_data"
    }
   ],
   "source": [
    "ConfusionMatrixDisplay.from_estimator(final_pipe, X_test, y_test);"
   ]
  },
  {
   "cell_type": "code",
   "execution_count": 52,
   "id": "7021f7e6",
   "metadata": {},
   "outputs": [
    {
     "name": "stdout",
     "output_type": "stream",
     "text": [
      "Training score: 0.9993\n",
      "Validation score: 0.9992\n",
      "Test score:0.9988\n"
     ]
    }
   ],
   "source": [
    "test_score = final_pipe.score(X_test,y_test)\n",
    "\n",
    "print(f'Training score: {round(train_score,4)}\\nValidation score: {round(val_score,4)}\\nTest score:{round(test_score,4)}')"
   ]
  },
  {
   "cell_type": "markdown",
   "id": "a5faf761",
   "metadata": {},
   "source": [
    "Out of **615,912** connections in our test set, our model is only mislabeling **60** of them. The comparable level of recall on the test set compared to the training set indicates that our model is not overfitted and has indeed learned underlying patterns that enable it to correctly label `MALICIOUS` connections. This gives us confidence in the generalizability of our model and its effectiveness in real-world scenarios."
   ]
  }
 ],
 "metadata": {
  "kernelspec": {
   "display_name": "Python 3 (ipykernel)",
   "language": "python",
   "name": "python3"
  },
  "language_info": {
   "codemirror_mode": {
    "name": "ipython",
    "version": 3
   },
   "file_extension": ".py",
   "mimetype": "text/x-python",
   "name": "python",
   "nbconvert_exporter": "python",
   "pygments_lexer": "ipython3",
   "version": "3.10.9"
  }
 },
 "nbformat": 4,
 "nbformat_minor": 5
}
