{
 "cells": [
  {
   "cell_type": "code",
   "execution_count": 1,
   "id": "a966489f",
   "metadata": {},
   "outputs": [],
   "source": [
    "#Libraries to handle data\n",
    "import numpy as np\n",
    "import pandas as pd\n",
    "\n",
    "#Libraries to visualize\n",
    "import matplotlib.pyplot as plt\n",
    "\n",
    "#Libraries for spliting data\n",
    "from sklearn.model_selection import train_test_split\n",
    "\n",
    "#Libraries for Scaling data\n",
    "from sklearn.preprocessing import StandardScaler\n",
    "\n",
    "#Libraries for modeling\n",
    "from sklearn.linear_model import LogisticRegression\n",
    "\n",
    "#Libraries for scoring\n",
    "from sklearn.metrics import classification_report\n",
    "from sklearn.metrics import confusion_matrix, ConfusionMatrixDisplay\n",
    "from sklearn.metrics import RocCurveDisplay,roc_auc_score"
   ]
  },
  {
   "cell_type": "markdown",
   "id": "d1890808",
   "metadata": {},
   "source": [
    "# Base Model"
   ]
  },
  {
   "cell_type": "markdown",
   "id": "e670b764",
   "metadata": {},
   "source": [
    "With our data now cleaned and optimized for success in the modeling stage, our next step is to create a base model. This base model will serve as a foundation for building more advanced models and will also give us an estimation of the time required for modeling. Some models, such as SVMs or KNNs, can be time-consuming to learn, so having a base model will provide us with valuable insights into the modeling process and potential time constraints. By establishing this baseline, we can efficiently proceed with further model development and fine-tuning to achieve accurate and efficient predictions for classifying connections as `BENIGN` or `MALIGNANT` (0 or 1)."
   ]
  },
  {
   "cell_type": "code",
   "execution_count": 2,
   "id": "36423c17",
   "metadata": {},
   "outputs": [
    {
     "name": "stdout",
     "output_type": "stream",
     "text": [
      "<class 'pandas.core.frame.DataFrame'>\n",
      "RangeIndex: 653740 entries, 0 to 653739\n",
      "Columns: 79 entries, Dst Port to Class\n",
      "dtypes: float64(45), int64(34)\n",
      "memory usage: 394.0 MB\n"
     ]
    }
   ],
   "source": [
    "#Reading test set\n",
    "train_df = pd.read_csv('processed/Train.csv')\n",
    "train_df.info(verbose=False)"
   ]
  },
  {
   "cell_type": "code",
   "execution_count": 3,
   "id": "f0b028d1",
   "metadata": {},
   "outputs": [
    {
     "data": {
      "text/html": [
       "<div>\n",
       "<style scoped>\n",
       "    .dataframe tbody tr th:only-of-type {\n",
       "        vertical-align: middle;\n",
       "    }\n",
       "\n",
       "    .dataframe tbody tr th {\n",
       "        vertical-align: top;\n",
       "    }\n",
       "\n",
       "    .dataframe thead th {\n",
       "        text-align: right;\n",
       "    }\n",
       "</style>\n",
       "<table border=\"1\" class=\"dataframe\">\n",
       "  <thead>\n",
       "    <tr style=\"text-align: right;\">\n",
       "      <th></th>\n",
       "      <th>Dst Port</th>\n",
       "      <th>Protocol</th>\n",
       "      <th>Flow Duration</th>\n",
       "      <th>Total Fwd Packet</th>\n",
       "      <th>Total Bwd packets</th>\n",
       "      <th>Total Length of Fwd Packet</th>\n",
       "      <th>Total Length of Bwd Packet</th>\n",
       "      <th>Fwd Packet Length Max</th>\n",
       "      <th>Fwd Packet Length Min</th>\n",
       "      <th>Fwd Packet Length Mean</th>\n",
       "      <th>...</th>\n",
       "      <th>Active Mean</th>\n",
       "      <th>Active Std</th>\n",
       "      <th>Active Max</th>\n",
       "      <th>Active Min</th>\n",
       "      <th>Idle Mean</th>\n",
       "      <th>Idle Std</th>\n",
       "      <th>Idle Max</th>\n",
       "      <th>Idle Min</th>\n",
       "      <th>Total TCP Flow Time</th>\n",
       "      <th>Class</th>\n",
       "    </tr>\n",
       "  </thead>\n",
       "  <tbody>\n",
       "    <tr>\n",
       "      <th>0</th>\n",
       "      <td>80</td>\n",
       "      <td>6</td>\n",
       "      <td>61980</td>\n",
       "      <td>8</td>\n",
       "      <td>7</td>\n",
       "      <td>326.0</td>\n",
       "      <td>11595.0</td>\n",
       "      <td>326.0</td>\n",
       "      <td>0.0</td>\n",
       "      <td>40.75000</td>\n",
       "      <td>...</td>\n",
       "      <td>0.0</td>\n",
       "      <td>0.0</td>\n",
       "      <td>0.0</td>\n",
       "      <td>0.0</td>\n",
       "      <td>0.0</td>\n",
       "      <td>0.0</td>\n",
       "      <td>0.0</td>\n",
       "      <td>0.0</td>\n",
       "      <td>61980</td>\n",
       "      <td>1</td>\n",
       "    </tr>\n",
       "    <tr>\n",
       "      <th>1</th>\n",
       "      <td>668</td>\n",
       "      <td>6</td>\n",
       "      <td>11</td>\n",
       "      <td>1</td>\n",
       "      <td>1</td>\n",
       "      <td>0.0</td>\n",
       "      <td>0.0</td>\n",
       "      <td>0.0</td>\n",
       "      <td>0.0</td>\n",
       "      <td>0.00000</td>\n",
       "      <td>...</td>\n",
       "      <td>0.0</td>\n",
       "      <td>0.0</td>\n",
       "      <td>0.0</td>\n",
       "      <td>0.0</td>\n",
       "      <td>0.0</td>\n",
       "      <td>0.0</td>\n",
       "      <td>0.0</td>\n",
       "      <td>0.0</td>\n",
       "      <td>11</td>\n",
       "      <td>1</td>\n",
       "    </tr>\n",
       "    <tr>\n",
       "      <th>2</th>\n",
       "      <td>5004</td>\n",
       "      <td>6</td>\n",
       "      <td>27</td>\n",
       "      <td>1</td>\n",
       "      <td>1</td>\n",
       "      <td>0.0</td>\n",
       "      <td>0.0</td>\n",
       "      <td>0.0</td>\n",
       "      <td>0.0</td>\n",
       "      <td>0.00000</td>\n",
       "      <td>...</td>\n",
       "      <td>0.0</td>\n",
       "      <td>0.0</td>\n",
       "      <td>0.0</td>\n",
       "      <td>0.0</td>\n",
       "      <td>0.0</td>\n",
       "      <td>0.0</td>\n",
       "      <td>0.0</td>\n",
       "      <td>0.0</td>\n",
       "      <td>27</td>\n",
       "      <td>1</td>\n",
       "    </tr>\n",
       "    <tr>\n",
       "      <th>3</th>\n",
       "      <td>80</td>\n",
       "      <td>6</td>\n",
       "      <td>16171593</td>\n",
       "      <td>7</td>\n",
       "      <td>6</td>\n",
       "      <td>339.0</td>\n",
       "      <td>11595.0</td>\n",
       "      <td>339.0</td>\n",
       "      <td>0.0</td>\n",
       "      <td>48.42857</td>\n",
       "      <td>...</td>\n",
       "      <td>0.0</td>\n",
       "      <td>0.0</td>\n",
       "      <td>0.0</td>\n",
       "      <td>0.0</td>\n",
       "      <td>16015575.0</td>\n",
       "      <td>0.0</td>\n",
       "      <td>16015575.0</td>\n",
       "      <td>16015575.0</td>\n",
       "      <td>16171593</td>\n",
       "      <td>1</td>\n",
       "    </tr>\n",
       "    <tr>\n",
       "      <th>4</th>\n",
       "      <td>80</td>\n",
       "      <td>6</td>\n",
       "      <td>16035510</td>\n",
       "      <td>8</td>\n",
       "      <td>7</td>\n",
       "      <td>327.0</td>\n",
       "      <td>11595.0</td>\n",
       "      <td>327.0</td>\n",
       "      <td>0.0</td>\n",
       "      <td>40.87500</td>\n",
       "      <td>...</td>\n",
       "      <td>0.0</td>\n",
       "      <td>0.0</td>\n",
       "      <td>0.0</td>\n",
       "      <td>0.0</td>\n",
       "      <td>16016511.0</td>\n",
       "      <td>0.0</td>\n",
       "      <td>16016511.0</td>\n",
       "      <td>16016511.0</td>\n",
       "      <td>16035510</td>\n",
       "      <td>1</td>\n",
       "    </tr>\n",
       "  </tbody>\n",
       "</table>\n",
       "<p>5 rows × 79 columns</p>\n",
       "</div>"
      ],
      "text/plain": [
       "   Dst Port  Protocol  Flow Duration  Total Fwd Packet  Total Bwd packets  \\\n",
       "0        80         6          61980                 8                  7   \n",
       "1       668         6             11                 1                  1   \n",
       "2      5004         6             27                 1                  1   \n",
       "3        80         6       16171593                 7                  6   \n",
       "4        80         6       16035510                 8                  7   \n",
       "\n",
       "   Total Length of Fwd Packet  Total Length of Bwd Packet  \\\n",
       "0                       326.0                     11595.0   \n",
       "1                         0.0                         0.0   \n",
       "2                         0.0                         0.0   \n",
       "3                       339.0                     11595.0   \n",
       "4                       327.0                     11595.0   \n",
       "\n",
       "   Fwd Packet Length Max  Fwd Packet Length Min  Fwd Packet Length Mean  ...  \\\n",
       "0                  326.0                    0.0                40.75000  ...   \n",
       "1                    0.0                    0.0                 0.00000  ...   \n",
       "2                    0.0                    0.0                 0.00000  ...   \n",
       "3                  339.0                    0.0                48.42857  ...   \n",
       "4                  327.0                    0.0                40.87500  ...   \n",
       "\n",
       "   Active Mean  Active Std  Active Max  Active Min   Idle Mean  Idle Std  \\\n",
       "0          0.0         0.0         0.0         0.0         0.0       0.0   \n",
       "1          0.0         0.0         0.0         0.0         0.0       0.0   \n",
       "2          0.0         0.0         0.0         0.0         0.0       0.0   \n",
       "3          0.0         0.0         0.0         0.0  16015575.0       0.0   \n",
       "4          0.0         0.0         0.0         0.0  16016511.0       0.0   \n",
       "\n",
       "     Idle Max    Idle Min  Total TCP Flow Time  Class  \n",
       "0         0.0         0.0                61980      1  \n",
       "1         0.0         0.0                   11      1  \n",
       "2         0.0         0.0                   27      1  \n",
       "3  16015575.0  16015575.0             16171593      1  \n",
       "4  16016511.0  16016511.0             16035510      1  \n",
       "\n",
       "[5 rows x 79 columns]"
      ]
     },
     "execution_count": 3,
     "metadata": {},
     "output_type": "execute_result"
    }
   ],
   "source": [
    "#Sanity check\n",
    "train_df.head()"
   ]
  },
  {
   "cell_type": "code",
   "execution_count": 4,
   "id": "334a9ae5",
   "metadata": {},
   "outputs": [],
   "source": [
    "#Separating dependent and independent variables\n",
    "X = train_df.drop(columns='Class')\n",
    "y = train_df['Class']"
   ]
  },
  {
   "cell_type": "code",
   "execution_count": 5,
   "id": "4a415410",
   "metadata": {},
   "outputs": [
    {
     "name": "stdout",
     "output_type": "stream",
     "text": [
      "(653740, 78) (653740,)\n"
     ]
    }
   ],
   "source": [
    "print(X.shape,y.shape)"
   ]
  },
  {
   "cell_type": "code",
   "execution_count": 6,
   "id": "aaead731",
   "metadata": {},
   "outputs": [
    {
     "data": {
      "text/html": [
       "<div>\n",
       "<style scoped>\n",
       "    .dataframe tbody tr th:only-of-type {\n",
       "        vertical-align: middle;\n",
       "    }\n",
       "\n",
       "    .dataframe tbody tr th {\n",
       "        vertical-align: top;\n",
       "    }\n",
       "\n",
       "    .dataframe thead th {\n",
       "        text-align: right;\n",
       "    }\n",
       "</style>\n",
       "<table border=\"1\" class=\"dataframe\">\n",
       "  <thead>\n",
       "    <tr style=\"text-align: right;\">\n",
       "      <th></th>\n",
       "      <th>Dst Port</th>\n",
       "      <th>Protocol</th>\n",
       "      <th>Flow Duration</th>\n",
       "      <th>Total Fwd Packet</th>\n",
       "      <th>Total Bwd packets</th>\n",
       "      <th>Total Length of Fwd Packet</th>\n",
       "      <th>Total Length of Bwd Packet</th>\n",
       "      <th>Fwd Packet Length Max</th>\n",
       "      <th>Fwd Packet Length Min</th>\n",
       "      <th>Fwd Packet Length Mean</th>\n",
       "      <th>...</th>\n",
       "      <th>Fwd Seg Size Min</th>\n",
       "      <th>Active Mean</th>\n",
       "      <th>Active Std</th>\n",
       "      <th>Active Max</th>\n",
       "      <th>Active Min</th>\n",
       "      <th>Idle Mean</th>\n",
       "      <th>Idle Std</th>\n",
       "      <th>Idle Max</th>\n",
       "      <th>Idle Min</th>\n",
       "      <th>Total TCP Flow Time</th>\n",
       "    </tr>\n",
       "  </thead>\n",
       "  <tbody>\n",
       "    <tr>\n",
       "      <th>0</th>\n",
       "      <td>80</td>\n",
       "      <td>6</td>\n",
       "      <td>61980</td>\n",
       "      <td>8</td>\n",
       "      <td>7</td>\n",
       "      <td>326.0</td>\n",
       "      <td>11595.0</td>\n",
       "      <td>326.0</td>\n",
       "      <td>0.0</td>\n",
       "      <td>40.750000</td>\n",
       "      <td>...</td>\n",
       "      <td>20</td>\n",
       "      <td>0.0</td>\n",
       "      <td>0.00</td>\n",
       "      <td>0.0</td>\n",
       "      <td>0.0</td>\n",
       "      <td>0.0</td>\n",
       "      <td>0.000</td>\n",
       "      <td>0.0</td>\n",
       "      <td>0.0</td>\n",
       "      <td>61980</td>\n",
       "    </tr>\n",
       "    <tr>\n",
       "      <th>1</th>\n",
       "      <td>668</td>\n",
       "      <td>6</td>\n",
       "      <td>11</td>\n",
       "      <td>1</td>\n",
       "      <td>1</td>\n",
       "      <td>0.0</td>\n",
       "      <td>0.0</td>\n",
       "      <td>0.0</td>\n",
       "      <td>0.0</td>\n",
       "      <td>0.000000</td>\n",
       "      <td>...</td>\n",
       "      <td>40</td>\n",
       "      <td>0.0</td>\n",
       "      <td>0.00</td>\n",
       "      <td>0.0</td>\n",
       "      <td>0.0</td>\n",
       "      <td>0.0</td>\n",
       "      <td>0.000</td>\n",
       "      <td>0.0</td>\n",
       "      <td>0.0</td>\n",
       "      <td>11</td>\n",
       "    </tr>\n",
       "    <tr>\n",
       "      <th>2</th>\n",
       "      <td>5004</td>\n",
       "      <td>6</td>\n",
       "      <td>27</td>\n",
       "      <td>1</td>\n",
       "      <td>1</td>\n",
       "      <td>0.0</td>\n",
       "      <td>0.0</td>\n",
       "      <td>0.0</td>\n",
       "      <td>0.0</td>\n",
       "      <td>0.000000</td>\n",
       "      <td>...</td>\n",
       "      <td>24</td>\n",
       "      <td>0.0</td>\n",
       "      <td>0.00</td>\n",
       "      <td>0.0</td>\n",
       "      <td>0.0</td>\n",
       "      <td>0.0</td>\n",
       "      <td>0.000</td>\n",
       "      <td>0.0</td>\n",
       "      <td>0.0</td>\n",
       "      <td>27</td>\n",
       "    </tr>\n",
       "    <tr>\n",
       "      <th>3</th>\n",
       "      <td>80</td>\n",
       "      <td>6</td>\n",
       "      <td>16171593</td>\n",
       "      <td>7</td>\n",
       "      <td>6</td>\n",
       "      <td>339.0</td>\n",
       "      <td>11595.0</td>\n",
       "      <td>339.0</td>\n",
       "      <td>0.0</td>\n",
       "      <td>48.428570</td>\n",
       "      <td>...</td>\n",
       "      <td>32</td>\n",
       "      <td>0.0</td>\n",
       "      <td>0.00</td>\n",
       "      <td>0.0</td>\n",
       "      <td>0.0</td>\n",
       "      <td>16015575.0</td>\n",
       "      <td>0.000</td>\n",
       "      <td>16015575.0</td>\n",
       "      <td>16015575.0</td>\n",
       "      <td>16171593</td>\n",
       "    </tr>\n",
       "    <tr>\n",
       "      <th>4</th>\n",
       "      <td>80</td>\n",
       "      <td>6</td>\n",
       "      <td>16035510</td>\n",
       "      <td>8</td>\n",
       "      <td>7</td>\n",
       "      <td>327.0</td>\n",
       "      <td>11595.0</td>\n",
       "      <td>327.0</td>\n",
       "      <td>0.0</td>\n",
       "      <td>40.875000</td>\n",
       "      <td>...</td>\n",
       "      <td>20</td>\n",
       "      <td>0.0</td>\n",
       "      <td>0.00</td>\n",
       "      <td>0.0</td>\n",
       "      <td>0.0</td>\n",
       "      <td>16016511.0</td>\n",
       "      <td>0.000</td>\n",
       "      <td>16016511.0</td>\n",
       "      <td>16016511.0</td>\n",
       "      <td>16035510</td>\n",
       "    </tr>\n",
       "    <tr>\n",
       "      <th>...</th>\n",
       "      <td>...</td>\n",
       "      <td>...</td>\n",
       "      <td>...</td>\n",
       "      <td>...</td>\n",
       "      <td>...</td>\n",
       "      <td>...</td>\n",
       "      <td>...</td>\n",
       "      <td>...</td>\n",
       "      <td>...</td>\n",
       "      <td>...</td>\n",
       "      <td>...</td>\n",
       "      <td>...</td>\n",
       "      <td>...</td>\n",
       "      <td>...</td>\n",
       "      <td>...</td>\n",
       "      <td>...</td>\n",
       "      <td>...</td>\n",
       "      <td>...</td>\n",
       "      <td>...</td>\n",
       "      <td>...</td>\n",
       "      <td>...</td>\n",
       "    </tr>\n",
       "    <tr>\n",
       "      <th>653735</th>\n",
       "      <td>53</td>\n",
       "      <td>17</td>\n",
       "      <td>471510</td>\n",
       "      <td>1</td>\n",
       "      <td>1</td>\n",
       "      <td>30.0</td>\n",
       "      <td>207.0</td>\n",
       "      <td>30.0</td>\n",
       "      <td>30.0</td>\n",
       "      <td>30.000000</td>\n",
       "      <td>...</td>\n",
       "      <td>8</td>\n",
       "      <td>0.0</td>\n",
       "      <td>0.00</td>\n",
       "      <td>0.0</td>\n",
       "      <td>0.0</td>\n",
       "      <td>0.0</td>\n",
       "      <td>0.000</td>\n",
       "      <td>0.0</td>\n",
       "      <td>0.0</td>\n",
       "      <td>0</td>\n",
       "    </tr>\n",
       "    <tr>\n",
       "      <th>653736</th>\n",
       "      <td>53</td>\n",
       "      <td>17</td>\n",
       "      <td>440751</td>\n",
       "      <td>1</td>\n",
       "      <td>1</td>\n",
       "      <td>44.0</td>\n",
       "      <td>60.0</td>\n",
       "      <td>44.0</td>\n",
       "      <td>44.0</td>\n",
       "      <td>44.000000</td>\n",
       "      <td>...</td>\n",
       "      <td>8</td>\n",
       "      <td>0.0</td>\n",
       "      <td>0.00</td>\n",
       "      <td>0.0</td>\n",
       "      <td>0.0</td>\n",
       "      <td>0.0</td>\n",
       "      <td>0.000</td>\n",
       "      <td>0.0</td>\n",
       "      <td>0.0</td>\n",
       "      <td>0</td>\n",
       "    </tr>\n",
       "    <tr>\n",
       "      <th>653737</th>\n",
       "      <td>443</td>\n",
       "      <td>6</td>\n",
       "      <td>5087271</td>\n",
       "      <td>9</td>\n",
       "      <td>6</td>\n",
       "      <td>674.0</td>\n",
       "      <td>3007.0</td>\n",
       "      <td>517.0</td>\n",
       "      <td>0.0</td>\n",
       "      <td>74.888885</td>\n",
       "      <td>...</td>\n",
       "      <td>20</td>\n",
       "      <td>0.0</td>\n",
       "      <td>0.00</td>\n",
       "      <td>0.0</td>\n",
       "      <td>0.0</td>\n",
       "      <td>0.0</td>\n",
       "      <td>0.000</td>\n",
       "      <td>0.0</td>\n",
       "      <td>0.0</td>\n",
       "      <td>5087271</td>\n",
       "    </tr>\n",
       "    <tr>\n",
       "      <th>653738</th>\n",
       "      <td>443</td>\n",
       "      <td>6</td>\n",
       "      <td>60603520</td>\n",
       "      <td>23</td>\n",
       "      <td>24</td>\n",
       "      <td>1102.0</td>\n",
       "      <td>24381.0</td>\n",
       "      <td>517.0</td>\n",
       "      <td>0.0</td>\n",
       "      <td>47.913044</td>\n",
       "      <td>...</td>\n",
       "      <td>20</td>\n",
       "      <td>120419.0</td>\n",
       "      <td>236920.02</td>\n",
       "      <td>604028.0</td>\n",
       "      <td>23228.0</td>\n",
       "      <td>9976273.0</td>\n",
       "      <td>99368.830</td>\n",
       "      <td>10024771.0</td>\n",
       "      <td>9774613.0</td>\n",
       "      <td>60603520</td>\n",
       "    </tr>\n",
       "    <tr>\n",
       "      <th>653739</th>\n",
       "      <td>80</td>\n",
       "      <td>6</td>\n",
       "      <td>21285354</td>\n",
       "      <td>16</td>\n",
       "      <td>9</td>\n",
       "      <td>4960.0</td>\n",
       "      <td>2607.0</td>\n",
       "      <td>851.0</td>\n",
       "      <td>0.0</td>\n",
       "      <td>310.000000</td>\n",
       "      <td>...</td>\n",
       "      <td>20</td>\n",
       "      <td>609285.5</td>\n",
       "      <td>810425.70</td>\n",
       "      <td>1182343.0</td>\n",
       "      <td>36228.0</td>\n",
       "      <td>10015691.0</td>\n",
       "      <td>16998.848</td>\n",
       "      <td>10027711.0</td>\n",
       "      <td>10003671.0</td>\n",
       "      <td>21285354</td>\n",
       "    </tr>\n",
       "  </tbody>\n",
       "</table>\n",
       "<p>653740 rows × 78 columns</p>\n",
       "</div>"
      ],
      "text/plain": [
       "        Dst Port  Protocol  Flow Duration  Total Fwd Packet  \\\n",
       "0             80         6          61980                 8   \n",
       "1            668         6             11                 1   \n",
       "2           5004         6             27                 1   \n",
       "3             80         6       16171593                 7   \n",
       "4             80         6       16035510                 8   \n",
       "...          ...       ...            ...               ...   \n",
       "653735        53        17         471510                 1   \n",
       "653736        53        17         440751                 1   \n",
       "653737       443         6        5087271                 9   \n",
       "653738       443         6       60603520                23   \n",
       "653739        80         6       21285354                16   \n",
       "\n",
       "        Total Bwd packets  Total Length of Fwd Packet  \\\n",
       "0                       7                       326.0   \n",
       "1                       1                         0.0   \n",
       "2                       1                         0.0   \n",
       "3                       6                       339.0   \n",
       "4                       7                       327.0   \n",
       "...                   ...                         ...   \n",
       "653735                  1                        30.0   \n",
       "653736                  1                        44.0   \n",
       "653737                  6                       674.0   \n",
       "653738                 24                      1102.0   \n",
       "653739                  9                      4960.0   \n",
       "\n",
       "        Total Length of Bwd Packet  Fwd Packet Length Max  \\\n",
       "0                          11595.0                  326.0   \n",
       "1                              0.0                    0.0   \n",
       "2                              0.0                    0.0   \n",
       "3                          11595.0                  339.0   \n",
       "4                          11595.0                  327.0   \n",
       "...                            ...                    ...   \n",
       "653735                       207.0                   30.0   \n",
       "653736                        60.0                   44.0   \n",
       "653737                      3007.0                  517.0   \n",
       "653738                     24381.0                  517.0   \n",
       "653739                      2607.0                  851.0   \n",
       "\n",
       "        Fwd Packet Length Min  Fwd Packet Length Mean  ...  Fwd Seg Size Min  \\\n",
       "0                         0.0               40.750000  ...                20   \n",
       "1                         0.0                0.000000  ...                40   \n",
       "2                         0.0                0.000000  ...                24   \n",
       "3                         0.0               48.428570  ...                32   \n",
       "4                         0.0               40.875000  ...                20   \n",
       "...                       ...                     ...  ...               ...   \n",
       "653735                   30.0               30.000000  ...                 8   \n",
       "653736                   44.0               44.000000  ...                 8   \n",
       "653737                    0.0               74.888885  ...                20   \n",
       "653738                    0.0               47.913044  ...                20   \n",
       "653739                    0.0              310.000000  ...                20   \n",
       "\n",
       "        Active Mean  Active Std  Active Max  Active Min   Idle Mean  \\\n",
       "0               0.0        0.00         0.0         0.0         0.0   \n",
       "1               0.0        0.00         0.0         0.0         0.0   \n",
       "2               0.0        0.00         0.0         0.0         0.0   \n",
       "3               0.0        0.00         0.0         0.0  16015575.0   \n",
       "4               0.0        0.00         0.0         0.0  16016511.0   \n",
       "...             ...         ...         ...         ...         ...   \n",
       "653735          0.0        0.00         0.0         0.0         0.0   \n",
       "653736          0.0        0.00         0.0         0.0         0.0   \n",
       "653737          0.0        0.00         0.0         0.0         0.0   \n",
       "653738     120419.0   236920.02    604028.0     23228.0   9976273.0   \n",
       "653739     609285.5   810425.70   1182343.0     36228.0  10015691.0   \n",
       "\n",
       "         Idle Std    Idle Max    Idle Min  Total TCP Flow Time  \n",
       "0           0.000         0.0         0.0                61980  \n",
       "1           0.000         0.0         0.0                   11  \n",
       "2           0.000         0.0         0.0                   27  \n",
       "3           0.000  16015575.0  16015575.0             16171593  \n",
       "4           0.000  16016511.0  16016511.0             16035510  \n",
       "...           ...         ...         ...                  ...  \n",
       "653735      0.000         0.0         0.0                    0  \n",
       "653736      0.000         0.0         0.0                    0  \n",
       "653737      0.000         0.0         0.0              5087271  \n",
       "653738  99368.830  10024771.0   9774613.0             60603520  \n",
       "653739  16998.848  10027711.0  10003671.0             21285354  \n",
       "\n",
       "[653740 rows x 78 columns]"
      ]
     },
     "execution_count": 6,
     "metadata": {},
     "output_type": "execute_result"
    }
   ],
   "source": [
    "#Sanity check\n",
    "X"
   ]
  },
  {
   "cell_type": "markdown",
   "id": "5a3340ae",
   "metadata": {},
   "source": [
    "Before utilizing more advanced tools like Pipelines or GridSearchCV for cross-validation and hyperparameter optimization, let's begin with a simple Logistic Regression model from sklearn. To evaluate its effectiveness, we need to create a validation set manually. Once we have determined factors like scaling and C value, we can assess the model's performance on the test set we previously prepared."
   ]
  },
  {
   "cell_type": "code",
   "execution_count": 7,
   "id": "24a26df1",
   "metadata": {},
   "outputs": [],
   "source": [
    "X_train, X_val, y_train, y_val = train_test_split(X,y,test_size=0.20, random_state=42)"
   ]
  },
  {
   "cell_type": "code",
   "execution_count": 8,
   "id": "c402c9a5",
   "metadata": {
    "scrolled": true
   },
   "outputs": [
    {
     "name": "stderr",
     "output_type": "stream",
     "text": [
      "/home/mdsv9/anaconda3/lib/python3.10/site-packages/sklearn/linear_model/_logistic.py:458: ConvergenceWarning: lbfgs failed to converge (status=1):\n",
      "STOP: TOTAL NO. of ITERATIONS REACHED LIMIT.\n",
      "\n",
      "Increase the number of iterations (max_iter) or scale the data as shown in:\n",
      "    https://scikit-learn.org/stable/modules/preprocessing.html\n",
      "Please also refer to the documentation for alternative solver options:\n",
      "    https://scikit-learn.org/stable/modules/linear_model.html#logistic-regression\n",
      "  n_iter_i = _check_optimize_result(\n"
     ]
    },
    {
     "data": {
      "text/html": [
       "<style>#sk-container-id-1 {color: black;background-color: white;}#sk-container-id-1 pre{padding: 0;}#sk-container-id-1 div.sk-toggleable {background-color: white;}#sk-container-id-1 label.sk-toggleable__label {cursor: pointer;display: block;width: 100%;margin-bottom: 0;padding: 0.3em;box-sizing: border-box;text-align: center;}#sk-container-id-1 label.sk-toggleable__label-arrow:before {content: \"▸\";float: left;margin-right: 0.25em;color: #696969;}#sk-container-id-1 label.sk-toggleable__label-arrow:hover:before {color: black;}#sk-container-id-1 div.sk-estimator:hover label.sk-toggleable__label-arrow:before {color: black;}#sk-container-id-1 div.sk-toggleable__content {max-height: 0;max-width: 0;overflow: hidden;text-align: left;background-color: #f0f8ff;}#sk-container-id-1 div.sk-toggleable__content pre {margin: 0.2em;color: black;border-radius: 0.25em;background-color: #f0f8ff;}#sk-container-id-1 input.sk-toggleable__control:checked~div.sk-toggleable__content {max-height: 200px;max-width: 100%;overflow: auto;}#sk-container-id-1 input.sk-toggleable__control:checked~label.sk-toggleable__label-arrow:before {content: \"▾\";}#sk-container-id-1 div.sk-estimator input.sk-toggleable__control:checked~label.sk-toggleable__label {background-color: #d4ebff;}#sk-container-id-1 div.sk-label input.sk-toggleable__control:checked~label.sk-toggleable__label {background-color: #d4ebff;}#sk-container-id-1 input.sk-hidden--visually {border: 0;clip: rect(1px 1px 1px 1px);clip: rect(1px, 1px, 1px, 1px);height: 1px;margin: -1px;overflow: hidden;padding: 0;position: absolute;width: 1px;}#sk-container-id-1 div.sk-estimator {font-family: monospace;background-color: #f0f8ff;border: 1px dotted black;border-radius: 0.25em;box-sizing: border-box;margin-bottom: 0.5em;}#sk-container-id-1 div.sk-estimator:hover {background-color: #d4ebff;}#sk-container-id-1 div.sk-parallel-item::after {content: \"\";width: 100%;border-bottom: 1px solid gray;flex-grow: 1;}#sk-container-id-1 div.sk-label:hover label.sk-toggleable__label {background-color: #d4ebff;}#sk-container-id-1 div.sk-serial::before {content: \"\";position: absolute;border-left: 1px solid gray;box-sizing: border-box;top: 0;bottom: 0;left: 50%;z-index: 0;}#sk-container-id-1 div.sk-serial {display: flex;flex-direction: column;align-items: center;background-color: white;padding-right: 0.2em;padding-left: 0.2em;position: relative;}#sk-container-id-1 div.sk-item {position: relative;z-index: 1;}#sk-container-id-1 div.sk-parallel {display: flex;align-items: stretch;justify-content: center;background-color: white;position: relative;}#sk-container-id-1 div.sk-item::before, #sk-container-id-1 div.sk-parallel-item::before {content: \"\";position: absolute;border-left: 1px solid gray;box-sizing: border-box;top: 0;bottom: 0;left: 50%;z-index: -1;}#sk-container-id-1 div.sk-parallel-item {display: flex;flex-direction: column;z-index: 1;position: relative;background-color: white;}#sk-container-id-1 div.sk-parallel-item:first-child::after {align-self: flex-end;width: 50%;}#sk-container-id-1 div.sk-parallel-item:last-child::after {align-self: flex-start;width: 50%;}#sk-container-id-1 div.sk-parallel-item:only-child::after {width: 0;}#sk-container-id-1 div.sk-dashed-wrapped {border: 1px dashed gray;margin: 0 0.4em 0.5em 0.4em;box-sizing: border-box;padding-bottom: 0.4em;background-color: white;}#sk-container-id-1 div.sk-label label {font-family: monospace;font-weight: bold;display: inline-block;line-height: 1.2em;}#sk-container-id-1 div.sk-label-container {text-align: center;}#sk-container-id-1 div.sk-container {/* jupyter's `normalize.less` sets `[hidden] { display: none; }` but bootstrap.min.css set `[hidden] { display: none !important; }` so we also need the `!important` here to be able to override the default hidden behavior on the sphinx rendered scikit-learn.org. See: https://github.com/scikit-learn/scikit-learn/issues/21755 */display: inline-block !important;position: relative;}#sk-container-id-1 div.sk-text-repr-fallback {display: none;}</style><div id=\"sk-container-id-1\" class=\"sk-top-container\"><div class=\"sk-text-repr-fallback\"><pre>LogisticRegression(C=1, max_iter=1000, random_state=123)</pre><b>In a Jupyter environment, please rerun this cell to show the HTML representation or trust the notebook. <br />On GitHub, the HTML representation is unable to render, please try loading this page with nbviewer.org.</b></div><div class=\"sk-container\" hidden><div class=\"sk-item\"><div class=\"sk-estimator sk-toggleable\"><input class=\"sk-toggleable__control sk-hidden--visually\" id=\"sk-estimator-id-1\" type=\"checkbox\" checked><label for=\"sk-estimator-id-1\" class=\"sk-toggleable__label sk-toggleable__label-arrow\">LogisticRegression</label><div class=\"sk-toggleable__content\"><pre>LogisticRegression(C=1, max_iter=1000, random_state=123)</pre></div></div></div></div></div>"
      ],
      "text/plain": [
       "LogisticRegression(C=1, max_iter=1000, random_state=123)"
      ]
     },
     "execution_count": 8,
     "metadata": {},
     "output_type": "execute_result"
    }
   ],
   "source": [
    "logit = LogisticRegression(C=1,penalty='l2',max_iter=1000,random_state=123)\n",
    "logit.fit(X_train,y_train)"
   ]
  },
  {
   "cell_type": "code",
   "execution_count": 9,
   "id": "acd1e2fc",
   "metadata": {},
   "outputs": [
    {
     "name": "stdout",
     "output_type": "stream",
     "text": [
      "Training score: 0.9497\n",
      "Validation score: 0.949\n"
     ]
    }
   ],
   "source": [
    "train_score = logit.score(X_train,y_train)\n",
    "val_score = logit.score(X_val,y_val)\n",
    "\n",
    "print(f'Training score: {round(train_score,4)}\\nValidation score: {round(val_score,4)}')"
   ]
  },
  {
   "cell_type": "markdown",
   "id": "5ee9451c",
   "metadata": {},
   "source": [
    "Our obtained accuracy scores are within the expected range for this type of problem, which might be attributed to the chosen C value or potential failure of our model to converge. However, this provides us with an opportunity to highlight a critical aspect for our specific scenario - the significance of a high recall score. In essence, we aim to ensure that all MALIGNANT connections are correctly identified, minimizing the possibility of evildoers slipping through undetected. Achieving a high recall score is crucial in ensuring the robustness and effectiveness of our model in detecting and classifying malicious network connections correctly."
   ]
  },
  {
   "cell_type": "code",
   "execution_count": 10,
   "id": "ecb3b202",
   "metadata": {},
   "outputs": [
    {
     "data": {
      "image/png": "[encoded data removed]",
      "text/plain": [
       "<Figure size 640x480 with 1 Axes>"
      ]
     },
     "metadata": {},
     "output_type": "display_data"
    }
   ],
   "source": [
    "RocCurveDisplay.from_estimator(logit, X_val, y_val)\n",
    "plt.title('ROC Curve for Inrussion Detection')\n",
    "plt.show()"
   ]
  },
  {
   "cell_type": "code",
   "execution_count": 11,
   "id": "1dc56a2d",
   "metadata": {},
   "outputs": [],
   "source": [
    "y_pred = logit.predict(X_val)"
   ]
  },
  {
   "cell_type": "code",
   "execution_count": 12,
   "id": "58d49af0",
   "metadata": {},
   "outputs": [
    {
     "name": "stdout",
     "output_type": "stream",
     "text": [
      "              precision    recall  f1-score   support\n",
      "\n",
      "           0       0.97      0.93      0.95     65507\n",
      "           1       0.93      0.97      0.95     65241\n",
      "\n",
      "    accuracy                           0.95    130748\n",
      "   macro avg       0.95      0.95      0.95    130748\n",
      "weighted avg       0.95      0.95      0.95    130748\n",
      "\n"
     ]
    }
   ],
   "source": [
    "result = classification_report(y_val,y_pred)\n",
    "print(result)"
   ]
  },
  {
   "cell_type": "code",
   "execution_count": 13,
   "id": "fae44e51",
   "metadata": {},
   "outputs": [
    {
     "data": {
      "image/png": "[encoded data removed]",
      "text/plain": [
       "<Figure size 640x480 with 2 Axes>"
      ]
     },
     "metadata": {},
     "output_type": "display_data"
    }
   ],
   "source": [
    "ConfusionMatrixDisplay.from_estimator(logit, X_val, y_val);"
   ]
  },
  {
   "cell_type": "markdown",
   "id": "d7e661b3",
   "metadata": {},
   "source": [
    "Our ROC curve, along with the area underneath it, shows that our model has a high probability of correctly labeling `MALIGNANT` connections. However, there are still some connections slipping through the cracks, as indicated by our confusion matrix, which reports **1867** misclassifications. To enhance model convergence, our next step is to implement a StandardScaler, which will help improve the model's performance and enable better classification accuracy."
   ]
  },
  {
   "cell_type": "code",
   "execution_count": 14,
   "id": "c61b994e",
   "metadata": {},
   "outputs": [],
   "source": [
    "#Scaling Data to help it converge\n",
    "ss = StandardScaler()\n",
    "ss.fit(X_train)\n",
    "\n",
    "X_train_t = ss.transform(X_train)\n",
    "X_val_t = ss.transform(X_val)"
   ]
  },
  {
   "cell_type": "code",
   "execution_count": 15,
   "id": "43763d96",
   "metadata": {},
   "outputs": [],
   "source": [
    "logit = LogisticRegression(C=1,penalty='l2',max_iter=1000,random_state=123)\n",
    "logit.fit(X_train_t,y_train);"
   ]
  },
  {
   "cell_type": "code",
   "execution_count": 16,
   "id": "ce6ee0f6",
   "metadata": {},
   "outputs": [
    {
     "name": "stdout",
     "output_type": "stream",
     "text": [
      "Training score: 0.9921\n",
      "Validation score: 0.9913\n"
     ]
    }
   ],
   "source": [
    "train_score = logit.score(X_train_t,y_train)\n",
    "val_score = logit.score(X_val_t,y_val)\n",
    "\n",
    "print(f'Training score: {round(train_score,4)}\\nValidation score: {round(val_score,4)}')"
   ]
  },
  {
   "cell_type": "code",
   "execution_count": 17,
   "id": "6f105ded",
   "metadata": {},
   "outputs": [
    {
     "name": "stdout",
     "output_type": "stream",
     "text": [
      "              precision    recall  f1-score   support\n",
      "\n",
      "           0       0.99      0.99      0.99     65507\n",
      "           1       0.99      0.99      0.99     65241\n",
      "\n",
      "    accuracy                           0.99    130748\n",
      "   macro avg       0.99      0.99      0.99    130748\n",
      "weighted avg       0.99      0.99      0.99    130748\n",
      "\n"
     ]
    }
   ],
   "source": [
    "y_pred = logit.predict(X_val_t)\n",
    "result = classification_report(y_val,y_pred)\n",
    "print(result)"
   ]
  },
  {
   "cell_type": "code",
   "execution_count": 18,
   "id": "d9a98882",
   "metadata": {},
   "outputs": [
    {
     "data": {
      "image/png": "[encoded data removed]",
      "text/plain": [
       "<Figure size 640x480 with 1 Axes>"
      ]
     },
     "metadata": {},
     "output_type": "display_data"
    },
    {
     "name": "stdout",
     "output_type": "stream",
     "text": [
      "Area under curve (AUC):0.9983623862428368\n"
     ]
    }
   ],
   "source": [
    "RocCurveDisplay.from_estimator(logit, X_val_t, y_val)\n",
    "plt.title('ROC Curve for Inrussion Detection')\n",
    "plt.show()\n",
    "\n",
    "y_proba = logit.predict_proba(X_val_t)[:,1]\n",
    "roc_auc = roc_auc_score(y_val, y_proba)\n",
    "print(f'Area under curve (AUC):{roc_auc}')"
   ]
  },
  {
   "cell_type": "code",
   "execution_count": 19,
   "id": "b10e95b8",
   "metadata": {},
   "outputs": [
    {
     "data": {
      "image/png": "[encoded data removed]",
      "text/plain": [
       "<Figure size 640x480 with 2 Axes>"
      ]
     },
     "metadata": {},
     "output_type": "display_data"
    }
   ],
   "source": [
    "ConfusionMatrixDisplay.from_estimator(logit, X_val_t, y_val);"
   ]
  },
  {
   "cell_type": "markdown",
   "id": "4c82ae24",
   "metadata": {},
   "source": [
    "The incorporation of a scaler has notably enhanced our model's performance, indicating that the previous relatively lower scores were indeed influenced by the model's failure to converge properly. When comparing the current metrics to the previous ones, we observe a considerable improvement. Our ROC curve demonstrates a higher probability of accurately classifying connections, and we now our confusion matrix shows that we have missclassified **331** data points. This shows a **17.72%** increase in our recall rate which is fenomenal.\n",
    "\n",
    "Now, let's evaluate the performance of our improved model on the test set, which retains the imbalanced data distribution we observed during the exploratory data analysis (EDA). This evaluation will provide valuable insights into how effectively our model is learning and its ability to adapt to the imbalanced dataset."
   ]
  },
  {
   "cell_type": "code",
   "execution_count": 24,
   "id": "3a99841d",
   "metadata": {},
   "outputs": [],
   "source": [
    "#Importing our test set and splitting its components\n",
    "test_df = pd.read_csv('processed/Test.csv')\n",
    "\n",
    "X_test = test_df.drop(columns='Class')\n",
    "y_test = test_df['Class']"
   ]
  },
  {
   "cell_type": "code",
   "execution_count": 25,
   "id": "6ff38120",
   "metadata": {},
   "outputs": [],
   "source": [
    "#Scaling our test set since we trained our model in scaled data\n",
    "X_test_t = ss.transform(X_test)"
   ]
  },
  {
   "cell_type": "code",
   "execution_count": 28,
   "id": "da7ff397",
   "metadata": {},
   "outputs": [
    {
     "name": "stdout",
     "output_type": "stream",
     "text": [
      "Training score: 0.9921\n",
      "Validation score: 0.9913\n",
      "Test score:0.9902\n"
     ]
    }
   ],
   "source": [
    "test_score = logit.score(X_test_t,y_test)\n",
    "\n",
    "print(f'Training score: {round(train_score,4)}\\nValidation score: {round(val_score,4)}\\nTest score:{round(test_score,4)}')"
   ]
  },
  {
   "cell_type": "code",
   "execution_count": 29,
   "id": "8e290b5f",
   "metadata": {},
   "outputs": [
    {
     "name": "stdout",
     "output_type": "stream",
     "text": [
      "              precision    recall  f1-score   support\n",
      "\n",
      "           0       1.00      0.99      0.99    475825\n",
      "           1       0.96      1.00      0.98    140087\n",
      "\n",
      "    accuracy                           0.99    615912\n",
      "   macro avg       0.98      0.99      0.99    615912\n",
      "weighted avg       0.99      0.99      0.99    615912\n",
      "\n"
     ]
    }
   ],
   "source": [
    "y_pred = logit.predict(X_test_t)\n",
    "result = classification_report(y_test,y_pred)\n",
    "print(result)"
   ]
  },
  {
   "cell_type": "code",
   "execution_count": 26,
   "id": "e35555a8",
   "metadata": {},
   "outputs": [
    {
     "data": {
      "image/png": "[encoded data removed]",
      "text/plain": [
       "<Figure size 640x480 with 2 Axes>"
      ]
     },
     "metadata": {},
     "output_type": "display_data"
    }
   ],
   "source": [
    "ConfusionMatrixDisplay.from_estimator(logit, X_test_t, y_test);"
   ]
  },
  {
   "cell_type": "markdown",
   "id": "40a50fa1",
   "metadata": {},
   "source": [
    "The test results demonstrate that our model has indeed learned some underlying patterns of the data, as evidenced by the high accuracy score despite the imbalanced dataset. However, as anticipated, the recall score is lower than before, as we have allowed a higher number of connections to be misclassified as `BENIGN` when they should be labeled as `MALIGNANT`.\n",
    "\n",
    "With the insights gained from this notebook, we will now focus on improving the results through hyperparameter optimization and exploring new types of models on our data. By applying the lessons learned, we aim to enhance our model's performance and achieve more accurate and reliable predictions in future iterations."
   ]
  }
 ],
 "metadata": {
  "kernelspec": {
   "display_name": "Python 3 (ipykernel)",
   "language": "python",
   "name": "python3"
  },
  "language_info": {
   "codemirror_mode": {
    "name": "ipython",
    "version": 3
   },
   "file_extension": ".py",
   "mimetype": "text/x-python",
   "name": "python",
   "nbconvert_exporter": "python",
   "pygments_lexer": "ipython3",
   "version": "3.10.9"
  }
 },
 "nbformat": 4,
 "nbformat_minor": 5
}
